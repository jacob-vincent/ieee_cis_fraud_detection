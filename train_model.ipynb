{
 "cells": [
  {
   "cell_type": "code",
   "execution_count": null,
   "metadata": {},
   "outputs": [],
   "source": [
    "import lightgbm as lgb\n",
    "import numpy as np\n",
    "import pandas as pd\n",
    "import pickle\n",
    "from scipy.sparse import csr_matrix\n",
    "import seaborn as sns\n",
    "from sklearn.model_selection import train_test_split\n",
    "from sklearn.metrics import roc_auc_score, average_precision_score\n",
    "import sys\n",
    "\n",
    "pd.set_option(\"display.max.columns\", None)"
   ]
  },
  {
   "cell_type": "code",
   "execution_count": 2,
   "metadata": {},
   "outputs": [],
   "source": [
    "def reduce_mem_usage(data_df, sparse=False):\n",
    "    \"\"\"Reduce memory usage of Pandas DF.\n",
    "    From https://www.kaggle.com/gemartin/load-data-reduce-memory-usage\n",
    "    \n",
    "    :param df: Pandas DF\n",
    "    :type df: :class:`pandas.DataFrame`\n",
    "    :return: Pandas DF\n",
    "    :rtype: :class:`pandas.DataFrame`\n",
    "    \"\"\"\n",
    "    megabyte = 1024**2\n",
    "    start_mem = data_df.memory_usage().sum()/megabyte\n",
    "    print(f'Memory usage of dataframe is {start_mem:.2f} MB')\n",
    "\n",
    "    for col in data_df.columns:\n",
    "        col_type = data_df[col].dtype\n",
    "\n",
    "        if col_type != object:\n",
    "            c_min = data_df[col].min()\n",
    "            c_max = data_df[col].max()\n",
    "\n",
    "            if str(col_type).startswith('int') or str(col_type).startswith('uint'):\n",
    "                if c_min > np.iinfo(np.int8).min and c_max < np.iinfo(np.int8).max:\n",
    "                    data_df[col] = data_df[col].astype(np.int8)\n",
    "                elif c_min > np.iinfo(np.int16).min and c_max < np.iinfo(np.int16).max:\n",
    "                    data_df[col] = data_df[col].astype(np.int16)\n",
    "                elif c_min > np.iinfo(np.int32).min and c_max < np.iinfo(np.int32).max:\n",
    "                    data_df[col] = data_df[col].astype(np.int32)\n",
    "                elif c_min > np.iinfo(np.int64).min and c_max < np.iinfo(np.int64).max:\n",
    "                    data_df[col] = data_df[col].astype(np.int64)\n",
    "            elif str(col_type).startswith('float'):\n",
    "                if c_min > np.finfo(np.float16).min and c_max < np.finfo(np.float16).max:\n",
    "                    data_df[col] = data_df[col].astype(np.float16)\n",
    "                elif c_min > np.finfo(np.float32).min and c_max < np.finfo(np.float32).max:\n",
    "                    data_df[col] = data_df[col].astype(np.float32)\n",
    "                else:\n",
    "                    data_df[col] = data_df[col].astype(np.float64)\n",
    "        else:\n",
    "            data_df[col] = data_df[col].astype('category')\n",
    "\n",
    "    if sparse:\n",
    "        data_df = csr_matrix(data_df)\n",
    "        end_mem = (data_df.data.nbytes + data_df.indptr.nbytes + data_df.indices.nbytes)/megabyte\n",
    "    else:\n",
    "        end_mem = data_df.memory_usage().sum()/megabyte\n",
    "        \n",
    "    percent_change = 100*(start_mem-end_mem)/start_mem\n",
    "    print(f'Memory usage after optimization is: {end_mem:.2f} MB')\n",
    "    print(f'Decreased by {percent_change:.1f}%')\n",
    "\n",
    "    return data_df"
   ]
  },
  {
   "cell_type": "code",
   "execution_count": null,
   "metadata": {},
   "outputs": [],
   "source": [
    "input_path = sys.argv[1]\n",
    "train_df = pd.read_csv(\"./data/training_data.csv\")"
   ]
  },
  {
   "cell_type": "code",
   "execution_count": 9,
   "metadata": {},
   "outputs": [
    {
     "name": "stdout",
     "output_type": "stream",
     "text": [
      "(108174, 2845)\n",
      "(36059, 2845)\n"
     ]
    }
   ],
   "source": [
    "train_df, val_df = train_test_split(train_df)\n",
    "print(train_df.shape)\n",
    "print(val_df.shape)"
   ]
  },
  {
   "cell_type": "code",
   "execution_count": 10,
   "metadata": {},
   "outputs": [],
   "source": [
    "x_train, y_train = train_df.drop([\"TransactionID\",\"isFraud\"], axis=1), train_df[[\"TransactionID\", \"isFraud\"]]\n",
    "x_val, y_val = val_df.drop([\"TransactionID\",\"isFraud\"], axis=1), val_df[[\"TransactionID\", \"isFraud\"]]"
   ]
  },
  {
   "cell_type": "code",
   "execution_count": 11,
   "metadata": {},
   "outputs": [
    {
     "name": "stdout",
     "output_type": "stream",
     "text": [
      "Memory usage of dataframe is 583.69 MB\n",
      "Memory usage after optimization is: 342.91 MB\n",
      "Decreased by 41.3%\n"
     ]
    }
   ],
   "source": [
    "x_train = reduce_mem_usage(x_train, sparse=True)"
   ]
  },
  {
   "cell_type": "code",
   "execution_count": 12,
   "metadata": {},
   "outputs": [
    {
     "name": "stdout",
     "output_type": "stream",
     "text": [
      "Memory usage of dataframe is 194.57 MB\n",
      "Memory usage after optimization is: 114.28 MB\n",
      "Decreased by 41.3%\n"
     ]
    }
   ],
   "source": [
    "x_val = reduce_mem_usage(x_val, sparse=True)"
   ]
  },
  {
   "cell_type": "code",
   "execution_count": 13,
   "metadata": {},
   "outputs": [],
   "source": [
    "model = lgb.LGBMClassifier(boosting_type=\"goss\", n_estimators=500, objective=\"binary\", silent=False)\n",
    "trained_model = model.fit(x_train, y_train[\"isFraud\"].values)"
   ]
  },
  {
   "cell_type": "code",
   "execution_count": null,
   "metadata": {},
   "outputs": [],
   "source": [
    "model_file_name = sys.argv[2]\n",
    "with open(f\"./data/{model_file_name}\") as file:\n",
    "    pickle.dump(trained_model, file)"
   ]
  },
  {
   "cell_type": "code",
   "execution_count": null,
   "metadata": {},
   "outputs": [],
   "source": []
  }
 ],
 "metadata": {
  "kernelspec": {
   "display_name": "Python 3",
   "language": "python",
   "name": "python3"
  },
  "language_info": {
   "codemirror_mode": {
    "name": "ipython",
    "version": 3
   },
   "file_extension": ".py",
   "mimetype": "text/x-python",
   "name": "python",
   "nbconvert_exporter": "python",
   "pygments_lexer": "ipython3",
   "version": "3.6.9"
  }
 },
 "nbformat": 4,
 "nbformat_minor": 4
}
